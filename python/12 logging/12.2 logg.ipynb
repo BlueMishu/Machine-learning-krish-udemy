{
 "cells": [
  {
   "cell_type": "code",
   "execution_count": 1,
   "metadata": {},
   "outputs": [],
   "source": [
    "import logging\n",
    "\n",
    "# configure logging\n",
    "logging.basicConfig(\n",
    "    filename='app2.log',\n",
    "    filemode='w',\n",
    "    level=logging.DEBUG,\n",
    "    format='%(asctime)s-%(name)s-%(levelname)s-%(message)s',\n",
    "    datefmt='%Y-%m-%d %H:%M:%S'\n",
    ")\n",
    "\n",
    "# log messeges with different severity messege\n",
    "logging.debug(\"This is a debug messege\")\n",
    "logging.info(\"This is an info messege\")\n",
    "logging.warning(\"This is a warning messege\")\n",
    "logging.error(\"This is a error messege\")\n",
    "logging.critical(\"This is a critical messege\")\n"
   ]
  },
  {
   "cell_type": "code",
   "execution_count": 2,
   "metadata": {},
   "outputs": [],
   "source": [
    "# log messeges with different severity messege\n",
    "logging.debug(\"This is a debug messege\")\n",
    "logging.info(\"This is an info messege\")\n",
    "logging.warning(\"This is a warning messege\")\n",
    "logging.error(\"This is a error messege\")\n",
    "logging.critical(\"This is a critical messege\")"
   ]
  },
  {
   "cell_type": "code",
   "execution_count": null,
   "metadata": {},
   "outputs": [],
   "source": []
  }
 ],
 "metadata": {
  "kernelspec": {
   "display_name": "Python 3",
   "language": "python",
   "name": "python3"
  },
  "language_info": {
   "codemirror_mode": {
    "name": "ipython",
    "version": 3
   },
   "file_extension": ".py",
   "mimetype": "text/x-python",
   "name": "python",
   "nbconvert_exporter": "python",
   "pygments_lexer": "ipython3",
   "version": "3.12.0"
  }
 },
 "nbformat": 4,
 "nbformat_minor": 2
}
