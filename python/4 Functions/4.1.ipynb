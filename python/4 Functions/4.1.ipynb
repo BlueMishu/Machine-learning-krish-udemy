{
 "cells": [
  {
   "cell_type": "code",
   "execution_count": 1,
   "metadata": {},
   "outputs": [],
   "source": [
    "# syntax\n",
    "def function_name(parameters):\n",
    "    \"\"\" Doc String -> tells about the function is of what use\"\"\"\n",
    "    #body\n",
    "    return ...\n"
   ]
  },
  {
   "cell_type": "code",
   "execution_count": 2,
   "metadata": {},
   "outputs": [],
   "source": [
    " ## even or odd\n",
    "\n",
    "def even_odd(x):\n",
    "    \"\"\"Tells about even or odd\"\"\"\n",
    "    if(x%2==0):\n",
    "        print(\"The number is even\")\n",
    "    else :\n",
    "        print(\"The Number is odd\")"
   ]
  },
  {
   "cell_type": "code",
   "execution_count": 3,
   "metadata": {},
   "outputs": [
    {
     "name": "stdout",
     "output_type": "stream",
     "text": [
      "The number is even\n",
      "The Number is odd\n"
     ]
    }
   ],
   "source": [
    "## call this function\n",
    "even_odd(10)\n",
    "even_odd(11)"
   ]
  },
  {
   "cell_type": "code",
   "execution_count": 10,
   "metadata": {},
   "outputs": [
    {
     "name": "stdout",
     "output_type": "stream",
     "text": [
      "(6, 2, 4)\n",
      "(11, 5, 6)\n"
     ]
    }
   ],
   "source": [
    "def add(a,b):\n",
    "    return a+b,a,b\n",
    "\n",
    "result=add(2,4)\n",
    "print(result)\n",
    "print(add(5,6))"
   ]
  },
  {
   "cell_type": "code",
   "execution_count": 5,
   "metadata": {},
   "outputs": [
    {
     "name": "stdout",
     "output_type": "stream",
     "text": [
      "Hello Divyansh\n"
     ]
    }
   ],
   "source": [
    "def greet(name=\"Divyansh\"):\n",
    "    print(f\"Hello {name}\")\n",
    "\n",
    "greet()"
   ]
  },
  {
   "cell_type": "code",
   "execution_count": 6,
   "metadata": {},
   "outputs": [
    {
     "name": "stdout",
     "output_type": "stream",
     "text": [
      "1\n",
      "2\n",
      "3\n",
      "4\n",
      "5\n",
      "6\n"
     ]
    }
   ],
   "source": [
    "# variable length arguments -> multiple argument\n",
    "# positional and keywords arguments\n",
    "\n",
    "def print_num(*args):\n",
    "    for num in args:\n",
    "        print(num)\n",
    "print_num(1,2,3,4,5,6)"
   ]
  },
  {
   "cell_type": "code",
   "execution_count": 7,
   "metadata": {},
   "outputs": [
    {
     "name": "stdout",
     "output_type": "stream",
     "text": [
      "1\n",
      "2\n",
      "3\n",
      "4\n",
      "5\n",
      "6\n"
     ]
    }
   ],
   "source": [
    "def print_num2(*args):\n",
    "    for num in args:\n",
    "        print(num)\n",
    "\n",
    "print_num2(1, 2, 3, 4, 5, 6)\n"
   ]
  },
  {
   "cell_type": "code",
   "execution_count": 9,
   "metadata": {},
   "outputs": [
    {
     "name": "stdout",
     "output_type": "stream",
     "text": [
      "name:Div\n",
      "age:32\n"
     ]
    }
   ],
   "source": [
    "# keyword argument\n",
    "\n",
    "def print_details(**kwargs):\n",
    "    for key,value in kwargs.items():\n",
    "        print(f\"{key}:{value}\")\n",
    "\n",
    "print_details(name= \"Div\",age=\"32\")"
   ]
  },
  {
   "cell_type": "code",
   "execution_count": null,
   "metadata": {},
   "outputs": [],
   "source": []
  },
  {
   "cell_type": "code",
   "execution_count": null,
   "metadata": {},
   "outputs": [],
   "source": []
  }
 ],
 "metadata": {
  "kernelspec": {
   "display_name": "Python 3",
   "language": "python",
   "name": "python3"
  },
  "language_info": {
   "codemirror_mode": {
    "name": "ipython",
    "version": 3
   },
   "file_extension": ".py",
   "mimetype": "text/x-python",
   "name": "python",
   "nbconvert_exporter": "python",
   "pygments_lexer": "ipython3",
   "version": "3.12.0"
  }
 },
 "nbformat": 4,
 "nbformat_minor": 2
}
