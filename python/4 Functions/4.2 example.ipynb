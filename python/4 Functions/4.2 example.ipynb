{
 "cells": [
  {
   "cell_type": "code",
   "execution_count": 4,
   "metadata": {},
   "outputs": [
    {
     "name": "stdout",
     "output_type": "stream",
     "text": [
      "True\n"
     ]
    }
   ],
   "source": [
    "# password checker\n",
    "def is_strong(password):\n",
    "    if len(password)<8:\n",
    "        return False\n",
    "    if not any(char.isdigit() for char in password):\n",
    "        return False\n",
    "    if not any(char.islower() for char in password):\n",
    "        return False\n",
    "    if not any(char.isupper() for char in password):\n",
    "        return False\n",
    "    if not any(char in \"!@#$%^&*()_+\" for char in password):\n",
    "        return False\n",
    "    return True\n",
    "\n",
    "print(is_strong(\"Divyansh678#\"))"
   ]
  },
  {
   "cell_type": "code",
   "execution_count": 10,
   "metadata": {},
   "outputs": [
    {
     "name": "stdout",
     "output_type": "stream",
     "text": [
      "1386\n"
     ]
    }
   ],
   "source": [
    "# calculate cost of the cart\n",
    "def calculate_cost(cart):\n",
    "    total_cost=0\n",
    "    for cost in cart:\n",
    "        total_cost+=cost['price']*cost['qty']\n",
    "    return total_cost\n",
    "\n",
    "cart=[\n",
    "    {'name':'apple','price':65,'qty':3},\n",
    "    {'name':'orange','price':78,'qty':5},\n",
    "    {'name':'grapes','price':89,'qty':9}\n",
    "]\n",
    "\n",
    "total_cost2=calculate_cost(cart)\n",
    "print(total_cost2)"
   ]
  },
  {
   "cell_type": "code",
   "execution_count": 11,
   "metadata": {},
   "outputs": [
    {
     "name": "stdout",
     "output_type": "stream",
     "text": [
      "True\n"
     ]
    }
   ],
   "source": [
    "# check if it is a palindrone or not\n",
    "def is_palindrone(s):\n",
    "    s=s.lower().replace(\" \",\"\")\n",
    "    return  s==s[::-1]\n",
    "\n",
    "print(is_palindrone(\"jahaj\"))"
   ]
  },
  {
   "cell_type": "code",
   "execution_count": 12,
   "metadata": {},
   "outputs": [
    {
     "data": {
      "text/plain": [
       "720"
      ]
     },
     "execution_count": 12,
     "metadata": {},
     "output_type": "execute_result"
    }
   ],
   "source": [
    "## factorial using recursion\n",
    "def factorial(n):\n",
    "    if(n==0): return 1\n",
    "    else : return n*factorial(n-1)\n",
    "\n",
    "factorial(6)"
   ]
  },
  {
   "cell_type": "code",
   "execution_count": null,
   "metadata": {},
   "outputs": [],
   "source": []
  }
 ],
 "metadata": {
  "kernelspec": {
   "display_name": "Python 3",
   "language": "python",
   "name": "python3"
  },
  "language_info": {
   "codemirror_mode": {
    "name": "ipython",
    "version": 3
   },
   "file_extension": ".py",
   "mimetype": "text/x-python",
   "name": "python",
   "nbconvert_exporter": "python",
   "pygments_lexer": "ipython3",
   "version": "3.12.0"
  }
 },
 "nbformat": 4,
 "nbformat_minor": 2
}
