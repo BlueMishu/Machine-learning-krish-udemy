{
 "cells": [
  {
   "cell_type": "code",
   "execution_count": 2,
   "metadata": {},
   "outputs": [],
   "source": [
    "class car():\n",
    "    def __init__(self,windows,doors,enginetype):\n",
    "        self.windows=windows\n",
    "        self.doors=doors\n",
    "        self.enginetype=enginetype\n",
    "    \n",
    "    def drive(self):\n",
    "        print(f'The person will drive the {self.enginetype} car')"
   ]
  },
  {
   "cell_type": "code",
   "execution_count": 4,
   "metadata": {},
   "outputs": [
    {
     "name": "stdout",
     "output_type": "stream",
     "text": [
      "The person will drive the Bull car\n"
     ]
    }
   ],
   "source": [
    "car1=car(4,5,'Bull')\n",
    "car1.drive()"
   ]
  },
  {
   "cell_type": "code",
   "execution_count": 5,
   "metadata": {},
   "outputs": [],
   "source": [
    "class tesla(car): # inherit car properties\n",
    "    def __init__(self, windows, doors, enginetype,isSelfDriving):\n",
    "        super().__init__(windows, doors, enginetype)\n",
    "        self.isSelfDriving=isSelfDriving\n",
    "    def selfDri(self):\n",
    "        print(f'Tesla Support Self Driving : {self.isSelfDriving}')"
   ]
  },
  {
   "cell_type": "code",
   "execution_count": 9,
   "metadata": {},
   "outputs": [
    {
     "name": "stdout",
     "output_type": "stream",
     "text": [
      "Tesla Support Self Driving : True\n"
     ]
    }
   ],
   "source": [
    "tesla1=tesla(4,5,'Electric',True)\n",
    "tesla1.selfDri()"
   ]
  },
  {
   "cell_type": "code",
   "execution_count": 11,
   "metadata": {},
   "outputs": [
    {
     "name": "stdout",
     "output_type": "stream",
     "text": [
      "The person will drive the Electric car\n"
     ]
    }
   ],
   "source": [
    "tesla1.drive()"
   ]
  },
  {
   "cell_type": "code",
   "execution_count": 14,
   "metadata": {},
   "outputs": [
    {
     "name": "stdout",
     "output_type": "stream",
     "text": [
      "Buddy say woof\n",
      "Divyansh is the owner\n"
     ]
    }
   ],
   "source": [
    "# multiple inheritance\n",
    "# when a child class inherits 2 parent class\n",
    "class animal: # base class 1\n",
    "    def __init__(self,name):\n",
    "        self.name=name\n",
    "        \n",
    "    def speak(self):\n",
    "        print('This subclass should implement this')\n",
    "\n",
    "class pet: # base class 2 \n",
    "    def __init__(self,owner):\n",
    "        self.owner=owner\n",
    "\n",
    "class Dog(animal,pet): # derived class\n",
    "    def __init__(self,name,owner):\n",
    "        animal.__init__(self,name)\n",
    "        pet.__init__(self,owner)\n",
    "    def speak(self):\n",
    "        return f'{self.name} say woof'\n",
    "    \n",
    "\n",
    "dog=Dog('Buddy','Divyansh')\n",
    "print(dog.speak())\n",
    "print(f'{dog.owner} is the owner')\n",
    "\n",
    "\n"
   ]
  },
  {
   "cell_type": "code",
   "execution_count": null,
   "metadata": {},
   "outputs": [],
   "source": []
  }
 ],
 "metadata": {
  "kernelspec": {
   "display_name": "Python 3",
   "language": "python",
   "name": "python3"
  },
  "language_info": {
   "codemirror_mode": {
    "name": "ipython",
    "version": 3
   },
   "file_extension": ".py",
   "mimetype": "text/x-python",
   "name": "python",
   "nbconvert_exporter": "python",
   "pygments_lexer": "ipython3",
   "version": "3.12.0"
  }
 },
 "nbformat": 4,
 "nbformat_minor": 2
}
