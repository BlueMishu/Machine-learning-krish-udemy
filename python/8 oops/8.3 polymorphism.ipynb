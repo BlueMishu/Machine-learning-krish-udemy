{
 "cells": [
  {
   "cell_type": "code",
   "execution_count": 6,
   "metadata": {},
   "outputs": [
    {
     "name": "stdout",
     "output_type": "stream",
     "text": [
      "woof\n",
      "meow\n",
      "woof\n"
     ]
    }
   ],
   "source": [
    "class animal: # super class\n",
    "    def speak(self):\n",
    "        return 'Sound of animal'\n",
    "\n",
    "class dog(animal): # derived class\n",
    "    def speak(self):\n",
    "        return 'woof'\n",
    "    \n",
    "class cat(animal): # derived class\n",
    "    def speak(self):\n",
    "        return 'meow'\n",
    "\n",
    "# function that demonstrates polymorphism\n",
    "def animalSpeak(animal):\n",
    "    print(animal.speak())\n",
    "Dog=dog()\n",
    "print (Dog.speak())\n",
    "Cat=cat()\n",
    "print(Cat.speak())\n",
    "animalSpeak(Dog)"
   ]
  },
  {
   "cell_type": "code",
   "execution_count": 14,
   "metadata": {},
   "outputs": [
    {
     "name": "stdout",
     "output_type": "stream",
     "text": [
      "The area of the Shape is 12\n",
      "The area of the Shape is 28.259999999999998\n"
     ]
    }
   ],
   "source": [
    "class Shape:\n",
    "    def area(self):\n",
    "        print('The area of the shape is : ')\n",
    "\n",
    "class rectangle(Shape):\n",
    "    def __init__(self,length,breadth):\n",
    "        self.length=length\n",
    "        self.breadth=breadth\n",
    "\n",
    "    def area(self):\n",
    "        return self.length*self.breadth\n",
    "    \n",
    "class circle(Shape):\n",
    "    def __init__(self,radius):\n",
    "        self.radius=radius\n",
    "\n",
    "    def area(self):\n",
    "        return 3.14*self.radius*self.radius\n",
    "    \n",
    "def printArea(Shape):\n",
    "    print(f'The area of the Shape is {Shape.area()}')\n",
    "\n",
    "rec=rectangle(3,4)\n",
    "cir=circle(3)\n",
    "\n",
    "printArea(rec)\n",
    "printArea(cir)\n",
    "\n"
   ]
  },
  {
   "cell_type": "code",
   "execution_count": 18,
   "metadata": {},
   "outputs": [
    {
     "name": "stdout",
     "output_type": "stream",
     "text": [
      "Car Engine Started\n",
      "Mototrcycle engine started\n"
     ]
    }
   ],
   "source": [
    "# polymorphism with abstract base class\n",
    "\n",
    "from abc import ABC , abstractmethod\n",
    "\n",
    "\n",
    "# define a abstract class\n",
    "class Vehicle(ABC):\n",
    "    @abstractmethod\n",
    "    def startEngine(self):\n",
    "        pass\n",
    "\n",
    "class Car(Vehicle):\n",
    "    def startEngine(self):\n",
    "        return 'Car Engine Started'\n",
    "    \n",
    "class MotorCycle(Vehicle):\n",
    "    def startEngine(self):\n",
    "        return 'Mototrcycle engine started'\n",
    "    \n",
    "def startVehicle(vehicle):\n",
    "    print(vehicle.startEngine())\n",
    "    \n",
    "# create objects of car and motorcycle\n",
    "\n",
    "car=Car()\n",
    "motorcycle=MotorCycle()\n",
    "startVehicle(car)\n",
    "startVehicle(motorcycle)\n"
   ]
  },
  {
   "cell_type": "code",
   "execution_count": null,
   "metadata": {},
   "outputs": [],
   "source": []
  }
 ],
 "metadata": {
  "kernelspec": {
   "display_name": "Python 3",
   "language": "python",
   "name": "python3"
  },
  "language_info": {
   "codemirror_mode": {
    "name": "ipython",
    "version": 3
   },
   "file_extension": ".py",
   "mimetype": "text/x-python",
   "name": "python",
   "nbconvert_exporter": "python",
   "pygments_lexer": "ipython3",
   "version": "3.12.0"
  }
 },
 "nbformat": 4,
 "nbformat_minor": 2
}
