{
 "cells": [
  {
   "cell_type": "markdown",
   "metadata": {},
   "source": [
    "# Real life example of List"
   ]
  },
  {
   "cell_type": "markdown",
   "metadata": {
    "vscode": {
     "languageId": "plaintext"
    }
   },
   "source": [
    "#### ex 1 create a to do list to keep track of task"
   ]
  },
  {
   "cell_type": "code",
   "execution_count": 6,
   "metadata": {},
   "outputs": [
    {
     "name": "stdout",
     "output_type": "stream",
     "text": [
      "['a', 'b', 'c', 'd', 'e']\n",
      "['a', 'c', 'd', 'e']\n",
      "HEllo\n",
      "Remaining task\n",
      "- a\n",
      "- c\n",
      "- d\n",
      "- e\n"
     ]
    }
   ],
   "source": [
    "to_do_list=[\"a\",\"b\",\"c\"]\n",
    "\n",
    "## creating new task\n",
    "to_do_list.append(\"d\")\n",
    "to_do_list.append(\"e\")\n",
    "print(to_do_list)\n",
    "\n",
    "# removing \n",
    "to_do_list.remove(\"b\")\n",
    "print(to_do_list)\n",
    "\n",
    "# checking if the task is in the list\n",
    "if \"c\" in to_do_list:\n",
    "    print(\"HEllo\")\n",
    "print(\"Remaining task\")\n",
    "for x in to_do_list:\n",
    "    print(f\"- {x}\")"
   ]
  },
  {
   "cell_type": "code",
   "execution_count": null,
   "metadata": {},
   "outputs": [],
   "source": []
  }
 ],
 "metadata": {
  "kernelspec": {
   "display_name": "Python 3",
   "language": "python",
   "name": "python3"
  },
  "language_info": {
   "codemirror_mode": {
    "name": "ipython",
    "version": 3
   },
   "file_extension": ".py",
   "mimetype": "text/x-python",
   "name": "python",
   "nbconvert_exporter": "python",
   "pygments_lexer": "ipython3",
   "version": "3.12.0"
  }
 },
 "nbformat": 4,
 "nbformat_minor": 2
}
