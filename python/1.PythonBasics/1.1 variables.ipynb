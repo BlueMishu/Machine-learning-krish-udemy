{
 "cells": [
  {
   "cell_type": "code",
   "execution_count": 4,
   "metadata": {},
   "outputs": [
    {
     "name": "stdout",
     "output_type": "stream",
     "text": [
      "Name : Divyansh\n",
      "20\n",
      "6.2\n",
      "True\n"
     ]
    }
   ],
   "source": [
    "## variables declared dynamically no nedd to define data type\n",
    "\n",
    "Name=\"Divyansh\"\n",
    "age=20\n",
    "height=6.2\n",
    "is_study=True\n",
    "\n",
    "## printing\n",
    "print(\"Name :\",Name)\n",
    "print(age)\n",
    "print(height)\n",
    "print(is_study)"
   ]
  },
  {
   "cell_type": "code",
   "execution_count": 5,
   "metadata": {},
   "outputs": [
    {
     "data": {
      "text/plain": [
       "'\\nvalid names\\nfirst_name=Divyansh\\n'"
      ]
     },
     "execution_count": 5,
     "metadata": {},
     "output_type": "execute_result"
    }
   ],
   "source": [
    "## naming conventio\n",
    "\n",
    "'''\n",
    "variables name should be descriptive\n",
    "they must start with a letter or _ \n",
    "it can contains letters , num , _\n",
    "names are case sensitive\n",
    "'''\n",
    "\n",
    "'''\n",
    "valid names\n",
    "first_name=Divyansh\n",
    "'''"
   ]
  },
  {
   "cell_type": "code",
   "execution_count": 6,
   "metadata": {},
   "outputs": [
    {
     "name": "stdout",
     "output_type": "stream",
     "text": [
      "25\n",
      "<class 'int'>\n",
      "<class 'str'>\n"
     ]
    }
   ],
   "source": [
    "# type conversion\n",
    "age=25\n",
    "age_str=str(age)\n",
    "print(age_str)\n",
    "print(type(age))\n",
    "print(type(age_str))"
   ]
  },
  {
   "cell_type": "code",
   "execution_count": 7,
   "metadata": {},
   "outputs": [
    {
     "name": "stdout",
     "output_type": "stream",
     "text": [
      "25\n",
      "<class 'str'>\n",
      "<class 'int'>\n"
     ]
    }
   ],
   "source": [
    "# type conversion 2\n",
    "age='25'\n",
    "age_int=int(age)\n",
    "print(age_int)\n",
    "print(type(age))\n",
    "print(type(age_int))"
   ]
  },
  {
   "cell_type": "code",
   "execution_count": 8,
   "metadata": {},
   "outputs": [
    {
     "name": "stdout",
     "output_type": "stream",
     "text": [
      "5\n",
      "<class 'float'>\n",
      "<class 'int'>\n"
     ]
    }
   ],
   "source": [
    "# type conversion 3\n",
    "age=5.3\n",
    "age_int=int(age)\n",
    "print(age_int)\n",
    "print(type(age))\n",
    "print(type(age_int))"
   ]
  },
  {
   "cell_type": "code",
   "execution_count": 9,
   "metadata": {},
   "outputs": [
    {
     "name": "stdout",
     "output_type": "stream",
     "text": [
      "10 <class 'int'>\n",
      "10.2 <class 'float'>\n",
      "Hello <class 'str'>\n"
     ]
    }
   ],
   "source": [
    "# dynamic typing\n",
    "# python allows the type of a variable to change as the program executes\n",
    "\n",
    "var = 10\n",
    "print(var,type(var))\n",
    "\n",
    "var = 10.2\n",
    "print(var,type(var))\n",
    "\n",
    "var = \"Hello\"\n",
    "print(var,type(var))\n"
   ]
  },
  {
   "cell_type": "code",
   "execution_count": 13,
   "metadata": {},
   "outputs": [
    {
     "name": "stdout",
     "output_type": "stream",
     "text": [
      "9 <class 'int'>\n"
     ]
    }
   ],
   "source": [
    "# input\n",
    "\n",
    "age=int(input(\"What is your age ?\"))\n",
    "print(age,type(age))"
   ]
  },
  {
   "cell_type": "code",
   "execution_count": null,
   "metadata": {},
   "outputs": [],
   "source": []
  }
 ],
 "metadata": {
  "kernelspec": {
   "display_name": "Python 3",
   "language": "python",
   "name": "python3"
  },
  "language_info": {
   "codemirror_mode": {
    "name": "ipython",
    "version": 3
   },
   "file_extension": ".py",
   "mimetype": "text/x-python",
   "name": "python",
   "nbconvert_exporter": "python",
   "pygments_lexer": "ipython3",
   "version": "3.12.0"
  }
 },
 "nbformat": 4,
 "nbformat_minor": 2
}
