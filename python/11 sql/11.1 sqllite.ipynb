{
 "cells": [
  {
   "cell_type": "code",
   "execution_count": 1,
   "metadata": {},
   "outputs": [],
   "source": [
    "import sqlite3"
   ]
  },
  {
   "cell_type": "code",
   "execution_count": 3,
   "metadata": {},
   "outputs": [
    {
     "data": {
      "text/plain": [
       "<sqlite3.Connection at 0x108084a90>"
      ]
     },
     "execution_count": 3,
     "metadata": {},
     "output_type": "execute_result"
    }
   ],
   "source": [
    "connection=sqlite3.connect('example.db')\n",
    "connection"
   ]
  },
  {
   "cell_type": "code",
   "execution_count": 4,
   "metadata": {},
   "outputs": [],
   "source": [
    "cursor=connection.cursor()"
   ]
  },
  {
   "cell_type": "code",
   "execution_count": 6,
   "metadata": {},
   "outputs": [],
   "source": [
    "# create a table\n",
    "\n",
    "cursor.execute('''\n",
    "Create Table If Not Exists employees(\n",
    "               id Integer Primary Key,\n",
    "               name Text Not Null,\n",
    "               age Integer,\n",
    "               department Text\n",
    "               )\n",
    "''')\n",
    "\n",
    "\n",
    "# commit the changes \n",
    "connection.commit()"
   ]
  },
  {
   "cell_type": "code",
   "execution_count": 8,
   "metadata": {},
   "outputs": [
    {
     "data": {
      "text/plain": [
       "<sqlite3.Cursor at 0x1082a91c0>"
      ]
     },
     "execution_count": 8,
     "metadata": {},
     "output_type": "execute_result"
    }
   ],
   "source": [
    "cursor.execute('''\n",
    "Select * from employees\n",
    "''')"
   ]
  },
  {
   "cell_type": "code",
   "execution_count": 11,
   "metadata": {},
   "outputs": [],
   "source": [
    "# insert the data in sqllite table\n",
    "cursor.execute('''\n",
    "Insert into employees(name,age,department)\n",
    "               Values('Divyansh',20,'All')\n",
    "''')\n",
    "\n",
    "cursor.execute('''\n",
    "Insert into employees(name,age,department)\n",
    "               Values('Singhal',21,'ll')\n",
    "''')\n",
    "\n",
    "cursor.execute('''\n",
    "Insert into employees(name,age,department)\n",
    "               Values('Mishu',22,'Al')\n",
    "''')\n",
    "\n",
    "\n",
    "## commit\n",
    "\n",
    "connection.commit()"
   ]
  },
  {
   "cell_type": "code",
   "execution_count": 15,
   "metadata": {},
   "outputs": [
    {
     "name": "stdout",
     "output_type": "stream",
     "text": [
      "(1, 'Divyansh', 20, 'All')\n",
      "(2, 'Divyansh', 20, 'All')\n",
      "(3, 'Singhal', 21, 'll')\n",
      "(4, 'Mishu', 22, 'Al')\n",
      "(5, 'Divyansh', 20, 'All')\n",
      "(6, 'Singhal', 21, 'll')\n",
      "(7, 'Mishu', 22, 'Al')\n"
     ]
    }
   ],
   "source": [
    "# query the data from the table\n",
    "\n",
    "cursor.execute('Select * from employees')\n",
    "rows = cursor.fetchall()\n",
    "\n",
    "\n",
    "\n",
    "\n",
    "for i in rows:\n",
    "    print (i)\n"
   ]
  },
  {
   "cell_type": "code",
   "execution_count": 16,
   "metadata": {},
   "outputs": [],
   "source": [
    "# update the data in the table\n",
    "\n",
    "cursor.execute('''\n",
    "Update employees\n",
    "Set age=34\n",
    "Where name='Divyansh'\n",
    "''')\n",
    "connection.commit()"
   ]
  },
  {
   "cell_type": "code",
   "execution_count": 18,
   "metadata": {},
   "outputs": [
    {
     "name": "stdout",
     "output_type": "stream",
     "text": [
      "(1, 'Divyansh', 34, 'All')\n",
      "(2, 'Divyansh', 34, 'All')\n",
      "(3, 'Singhal', 21, 'll')\n",
      "(4, 'Mishu', 22, 'Al')\n",
      "(5, 'Divyansh', 34, 'All')\n",
      "(6, 'Singhal', 21, 'll')\n",
      "(7, 'Mishu', 22, 'Al')\n"
     ]
    }
   ],
   "source": [
    "cursor.execute('Select * from employees')\n",
    "rows = cursor.fetchall()\n",
    "\n",
    "\n",
    "\n",
    "\n",
    "for i in rows:\n",
    "    print (i)"
   ]
  },
  {
   "cell_type": "code",
   "execution_count": 20,
   "metadata": {},
   "outputs": [],
   "source": [
    "# delete the data from table\n",
    "\n",
    "cursor.execute('''\n",
    "Delete from employees\n",
    "               WHERE name = 'Divyansh'\n",
    "''')\n",
    "connection.commit()"
   ]
  },
  {
   "cell_type": "code",
   "execution_count": 22,
   "metadata": {},
   "outputs": [
    {
     "name": "stdout",
     "output_type": "stream",
     "text": [
      "(3, 'Singhal', 21, 'll')\n",
      "(4, 'Mishu', 22, 'Al')\n",
      "(6, 'Singhal', 21, 'll')\n",
      "(7, 'Mishu', 22, 'Al')\n"
     ]
    }
   ],
   "source": [
    "cursor.execute('Select * from employees')\n",
    "rows = cursor.fetchall()\n",
    "\n",
    "\n",
    "\n",
    "\n",
    "for i in rows:\n",
    "    print (i)\n"
   ]
  },
  {
   "cell_type": "code",
   "execution_count": 23,
   "metadata": {},
   "outputs": [],
   "source": [
    "## Working Wwith Sales Data\n",
    "# Connect to an SQLite database\n",
    "connection = sqlite3.connect('sales_data.db')\n",
    "cursor = connection.cursor()\n",
    "\n",
    "# Create a table for sales data\n",
    "cursor.execute('''\n",
    "CREATE TABLE IF NOT EXISTS sales (\n",
    "    id INTEGER PRIMARY KEY,\n",
    "    date TEXT NOT NULL,\n",
    "    product TEXT NOT NULL,\n",
    "    sales INTEGER,\n",
    "    region TEXT\n",
    ")\n",
    "''')\n",
    "\n",
    "# Insert data into the sales table\n",
    "sales_data = [\n",
    "    ('2023-01-01', 'Product1', 100, 'North'),\n",
    "    ('2023-01-02', 'Product2', 200, 'South'),\n",
    "    ('2023-01-03', 'Product1', 150, 'East'),\n",
    "    ('2023-01-04', 'Product3', 250, 'West'),\n",
    "    ('2023-01-05', 'Product2', 300, 'North')\n",
    "]\n",
    "\n",
    "cursor.executemany('''\n",
    "Insert into sales(date,product,sales,region)\n",
    "                   values(?,?,?,?)\n",
    "''',sales_data)\n",
    "\n",
    "connection.commit()"
   ]
  },
  {
   "cell_type": "code",
   "execution_count": 24,
   "metadata": {},
   "outputs": [
    {
     "name": "stdout",
     "output_type": "stream",
     "text": [
      "(1, '2023-01-01', 'Product1', 100, 'North')\n",
      "(2, '2023-01-02', 'Product2', 200, 'South')\n",
      "(3, '2023-01-03', 'Product1', 150, 'East')\n",
      "(4, '2023-01-04', 'Product3', 250, 'West')\n",
      "(5, '2023-01-05', 'Product2', 300, 'North')\n"
     ]
    }
   ],
   "source": [
    "cursor.execute('Select * from sales')\n",
    "rows = cursor.fetchall()\n",
    "\n",
    "\n",
    "\n",
    "\n",
    "for i in rows:\n",
    "    print (i)\n"
   ]
  },
  {
   "cell_type": "code",
   "execution_count": 25,
   "metadata": {},
   "outputs": [],
   "source": [
    "# close the connection\n",
    "connection.close()"
   ]
  },
  {
   "cell_type": "code",
   "execution_count": null,
   "metadata": {},
   "outputs": [],
   "source": []
  }
 ],
 "metadata": {
  "kernelspec": {
   "display_name": "Python 3",
   "language": "python",
   "name": "python3"
  },
  "language_info": {
   "codemirror_mode": {
    "name": "ipython",
    "version": 3
   },
   "file_extension": ".py",
   "mimetype": "text/x-python",
   "name": "python",
   "nbconvert_exporter": "python",
   "pygments_lexer": "ipython3",
   "version": "3.12.0"
  }
 },
 "nbformat": 4,
 "nbformat_minor": 2
}
