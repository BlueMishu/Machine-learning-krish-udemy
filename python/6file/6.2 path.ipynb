{
 "cells": [
  {
   "cell_type": "code",
   "execution_count": 3,
   "metadata": {},
   "outputs": [
    {
     "name": "stdout",
     "output_type": "stream",
     "text": [
      "/Users/bluemishu/Coding/ML/python/6file\n"
     ]
    }
   ],
   "source": [
    "import os\n",
    "cwd=os.getcwd()\n",
    "print(cwd)"
   ]
  },
  {
   "cell_type": "code",
   "execution_count": 5,
   "metadata": {},
   "outputs": [
    {
     "name": "stdout",
     "output_type": "stream",
     "text": [
      "package directory created\n"
     ]
    }
   ],
   "source": [
    "os.mkdir('pack')\n",
    "print('package directory created')"
   ]
  },
  {
   "cell_type": "code",
   "execution_count": 9,
   "metadata": {},
   "outputs": [
    {
     "name": "stdout",
     "output_type": "stream",
     "text": [
      "['destination.txt', '6.1operation.ipynb', '6.2 path.ipynb', 'pack', 'example.bin', 'example.txt']\n"
     ]
    }
   ],
   "source": [
    "list=os.listdir('./')\n",
    "print(list)"
   ]
  },
  {
   "cell_type": "code",
   "execution_count": 11,
   "metadata": {},
   "outputs": [
    {
     "name": "stdout",
     "output_type": "stream",
     "text": [
      "folder/Div.txt\n"
     ]
    }
   ],
   "source": [
    "# join paths\n",
    "dirName='folder'\n",
    "fileName='Div.txt'\n",
    "fullPath=os.path.join(dirName,fileName)\n",
    "print(fullPath)"
   ]
  },
  {
   "cell_type": "code",
   "execution_count": 13,
   "metadata": {},
   "outputs": [
    {
     "name": "stdout",
     "output_type": "stream",
     "text": [
      "/Users/bluemishu/Coding/ML/python/6file/folder/Div.txt\n"
     ]
    }
   ],
   "source": [
    "dirName='folder'\n",
    "fileName='Div.txt'\n",
    "fullPath=os.path.join(os.getcwd(),dirName,fileName)\n",
    "print(fullPath)"
   ]
  },
  {
   "cell_type": "code",
   "execution_count": 16,
   "metadata": {},
   "outputs": [
    {
     "name": "stdout",
     "output_type": "stream",
     "text": [
      "the path example1.txt does not exists\n"
     ]
    }
   ],
   "source": [
    "path='example1.txt'\n",
    "if os.path.exists(path):\n",
    "    print(f\"the path {path} exists\")\n",
    "else:\n",
    "    print(f\"the path {path} does not exists\")"
   ]
  },
  {
   "cell_type": "code",
   "execution_count": 17,
   "metadata": {},
   "outputs": [
    {
     "name": "stdout",
     "output_type": "stream",
     "text": [
      "file\n"
     ]
    }
   ],
   "source": [
    "# checking if a path is file or a dirrctory\n",
    "path='example.txt'\n",
    "if os.path.isfile(path):\n",
    "    print(\"file\")\n",
    "elif os.path.isdir(path):\n",
    "    print('dir')\n",
    "    "
   ]
  },
  {
   "cell_type": "code",
   "execution_count": 19,
   "metadata": {},
   "outputs": [
    {
     "name": "stdout",
     "output_type": "stream",
     "text": [
      "/Users/bluemishu/Coding/ML/python/6file/example.txt\n"
     ]
    }
   ],
   "source": [
    "# getting the absolute path\n",
    "relatinvePath='example.txt'\n",
    "absolutePath=os.path.abspath(relatinvePath)\n",
    "print(absolutePath)"
   ]
  },
  {
   "cell_type": "code",
   "execution_count": null,
   "metadata": {},
   "outputs": [],
   "source": []
  }
 ],
 "metadata": {
  "kernelspec": {
   "display_name": "Python 3",
   "language": "python",
   "name": "python3"
  },
  "language_info": {
   "codemirror_mode": {
    "name": "ipython",
    "version": 3
   },
   "file_extension": ".py",
   "mimetype": "text/x-python",
   "name": "python",
   "nbconvert_exporter": "python",
   "pygments_lexer": "ipython3",
   "version": "3.12.0"
  }
 },
 "nbformat": 4,
 "nbformat_minor": 2
}
