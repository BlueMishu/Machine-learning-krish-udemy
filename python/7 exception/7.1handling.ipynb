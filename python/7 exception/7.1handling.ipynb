{
 "cells": [
  {
   "cell_type": "code",
   "execution_count": 2,
   "metadata": {},
   "outputs": [
    {
     "name": "stdout",
     "output_type": "stream",
     "text": [
      "The variable has not been assigned\n"
     ]
    }
   ],
   "source": [
    "## exception using try , except block\n",
    "try:\n",
    "    a=b\n",
    "except:\n",
    "    print('The variable has not been assigned')"
   ]
  },
  {
   "cell_type": "code",
   "execution_count": 3,
   "metadata": {},
   "outputs": [
    {
     "name": "stdout",
     "output_type": "stream",
     "text": [
      "name 'b' is not defined\n"
     ]
    }
   ],
   "source": [
    "# using nameerror\n",
    "try:\n",
    "    a=b\n",
    "except NameError as ex:\n",
    "    print(ex)"
   ]
  },
  {
   "cell_type": "code",
   "execution_count": 7,
   "metadata": {},
   "outputs": [
    {
     "name": "stdout",
     "output_type": "stream",
     "text": [
      "division by zero\n",
      "Please give denominator other than zero\n"
     ]
    }
   ],
   "source": [
    "try :\n",
    "    result=1/0\n",
    "except ZeroDivisionError as zd:\n",
    "    print(zd)\n",
    "    print('Please give denominator other than zero')"
   ]
  },
  {
   "cell_type": "code",
   "execution_count": 4,
   "metadata": {},
   "outputs": [
    {
     "ename": "ZeroDivisionError",
     "evalue": "division by zero",
     "output_type": "error",
     "traceback": [
      "\u001b[0;31m---------------------------------------------------------------------------\u001b[0m",
      "\u001b[0;31mZeroDivisionError\u001b[0m                         Traceback (most recent call last)",
      "Cell \u001b[0;32mIn[4], line 1\u001b[0m\n\u001b[0;32m----> 1\u001b[0m \u001b[38;5;28mprint\u001b[39m(\u001b[38;5;241;43m1\u001b[39;49m\u001b[38;5;241;43m/\u001b[39;49m\u001b[38;5;241;43m0\u001b[39;49m)\n",
      "\u001b[0;31mZeroDivisionError\u001b[0m: division by zero"
     ]
    }
   ],
   "source": [
    "print(1/0)"
   ]
  },
  {
   "cell_type": "code",
   "execution_count": 8,
   "metadata": {},
   "outputs": [
    {
     "name": "stdout",
     "output_type": "stream",
     "text": [
      "name 'b' is not defined\n"
     ]
    }
   ],
   "source": [
    "try :\n",
    "    result=1/2\n",
    "    a=b\n",
    "except ZeroDivisionError as zd:\n",
    "    print(zd)\n",
    "    print('Please give denominator other than zero')\n",
    "except Exception as ex1:\n",
    "    print(ex1)"
   ]
  },
  {
   "cell_type": "code",
   "execution_count": 9,
   "metadata": {},
   "outputs": [
    {
     "name": "stdout",
     "output_type": "stream",
     "text": [
      "division by zero\n",
      "Please give denominator other than zero\n"
     ]
    }
   ],
   "source": [
    "try :\n",
    "    result=1/0\n",
    "    a=b\n",
    "except ZeroDivisionError as zd:\n",
    "    print(zd)\n",
    "    print('Please give denominator other than zero')\n",
    "except Exception as ex1:\n",
    "    print(ex1)"
   ]
  },
  {
   "cell_type": "code",
   "execution_count": 10,
   "metadata": {},
   "outputs": [],
   "source": [
    "try:\n",
    "    a=int(input(\"Enter the Number\"))\n",
    "    result=10/0\n",
    "except NameError as ne:\n",
    "    print(ne)\n",
    "except ZeroDivisionError as zd:\n",
    "    print(zd)\n",
    "    print('Please give denominator other than zero')\n",
    "except Exception as ex:\n",
    "    print(ex)"
   ]
  },
  {
   "cell_type": "code",
   "execution_count": 15,
   "metadata": {},
   "outputs": [
    {
     "name": "stdout",
     "output_type": "stream",
     "text": [
      "The result is 1.0\n"
     ]
    }
   ],
   "source": [
    "# try , catch , else \n",
    "try:\n",
    "    a=int(input(\"Enter the Number\"))\n",
    "    result=10/a\n",
    "except NameError as ne:\n",
    "    print(ne)\n",
    "except ZeroDivisionError as zd:\n",
    "    print(zd)\n",
    "    print('Please give denominator other than zero')\n",
    "except Exception as ex:\n",
    "    print(ex)\n",
    "else :\n",
    "    print(f'The result is {result}')"
   ]
  },
  {
   "cell_type": "code",
   "execution_count": 16,
   "metadata": {},
   "outputs": [
    {
     "name": "stdout",
     "output_type": "stream",
     "text": [
      "The result is 0.25\n",
      "exception Executed\n"
     ]
    }
   ],
   "source": [
    "# try , except , else and finally\n",
    "try:\n",
    "    a=int(input(\"Enter the Number\"))\n",
    "    result=10/a\n",
    "except NameError as ne:\n",
    "    print(ne)\n",
    "except ZeroDivisionError as zd:\n",
    "    print(zd)\n",
    "    print('Please give denominator other than zero')\n",
    "except Exception as ex:\n",
    "    print(ex)\n",
    "else :\n",
    "    print(f'The result is {result}')\n",
    "finally:\n",
    "    print('exception Executed')"
   ]
  },
  {
   "cell_type": "code",
   "execution_count": 19,
   "metadata": {},
   "outputs": [
    {
     "name": "stdout",
     "output_type": "stream",
     "text": [
      "[Errno 2] No such file or directory: 'example.txt'\n",
      "File does not exist\n"
     ]
    }
   ],
   "source": [
    "try:\n",
    "    file=open('example.txt','r')\n",
    "    content=file.read()\n",
    "    print(content)\n",
    "\n",
    "except FileNotFoundError as f:\n",
    "    print(f)\n",
    "    print(\"File does not exist\")\n",
    "finally:\n",
    "    if 'file' in locals() and not file.closed():\n",
    "        file.close()\n",
    "        print('file close')"
   ]
  },
  {
   "cell_type": "code",
   "execution_count": null,
   "metadata": {},
   "outputs": [],
   "source": []
  }
 ],
 "metadata": {
  "kernelspec": {
   "display_name": "Python 3",
   "language": "python",
   "name": "python3"
  },
  "language_info": {
   "codemirror_mode": {
    "name": "ipython",
    "version": 3
   },
   "file_extension": ".py",
   "mimetype": "text/x-python",
   "name": "python",
   "nbconvert_exporter": "python",
   "pygments_lexer": "ipython3",
   "version": "3.12.0"
  }
 },
 "nbformat": 4,
 "nbformat_minor": 2
}
